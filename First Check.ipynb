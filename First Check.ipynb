{
 "cells": [
  {
   "cell_type": "code",
   "execution_count": 409,
   "metadata": {
    "collapsed": true
   },
   "outputs": [],
   "source": [
    "import numpy as np\n",
    "import chainer\n",
    "from chainer import cuda, Function, gradient_check, report, training, utils, Variable\n",
    "from chainer import datasets, iterators, optimizers, serializers\n",
    "from chainer import Link, Chain, ChainList\n",
    "import chainer.functions as F\n",
    "import chainer.links as L\n",
    "from chainer.training import extensions\n",
    "from matplotlib import pyplot as plt\n",
    "%matplotlib inline "
   ]
  },
  {
   "cell_type": "code",
   "execution_count": 479,
   "metadata": {
    "collapsed": true
   },
   "outputs": [],
   "source": [
    "def make_f(N=50):\n",
    "    t = 0\n",
    "    p = None\n",
    "    w = None\n",
    "    r = None\n",
    "    p2 = None\n",
    "    w2 = None\n",
    "    r2 = None\n",
    "    \n",
    "    def rst():\n",
    "        nonlocal p,w,r\n",
    "        p = np.random.rand(N) * 100\n",
    "        w = np.random.rand(N) * 2 + 1\n",
    "        r = np.random.rand(N) * 0 + 1\n",
    "    rst()\n",
    "    \n",
    "    def next():\n",
    "        nonlocal t\n",
    "        t += 0.1\n",
    "        a = r * np.sin(w * t + p)\n",
    "        a = np.where(a>0,np.ones_like(a),np.zeros_like(a));\n",
    "        a+= r * np.sin(2*w * t + p)*0\n",
    "        return Variable( a.reshape(-1,1).astype(np.float32) )\n",
    "    return (next,rst)\n",
    "(f,f_rst) = make_f()"
   ]
  },
  {
   "cell_type": "code",
   "execution_count": 480,
   "metadata": {
    "collapsed": false
   },
   "outputs": [],
   "source": [
    "f_rst()\n",
    "li = []\n",
    "for i in range(300):\n",
    "    li.append(f().data[0])\n",
    "li = np.array(li).flatten()"
   ]
  },
  {
   "cell_type": "code",
   "execution_count": 481,
   "metadata": {
    "collapsed": false
   },
   "outputs": [
    {
     "data": {
      "text/plain": [
       "[<matplotlib.lines.Line2D at 0x7f1cea98bda0>]"
      ]
     },
     "execution_count": 481,
     "metadata": {},
     "output_type": "execute_result"
    },
    {
     "data": {
      "image/png": "[encoded data removed]",
      "text/plain": [
       "<matplotlib.figure.Figure at 0x7f1ceaa0a0b8>"
      ]
     },
     "metadata": {},
     "output_type": "display_data"
    }
   ],
   "source": [
    "plt.plot(li)"
   ]
  },
  {
   "cell_type": "code",
   "execution_count": null,
   "metadata": {
    "collapsed": true
   },
   "outputs": [],
   "source": []
  },
  {
   "cell_type": "code",
   "execution_count": 482,
   "metadata": {
    "collapsed": false
   },
   "outputs": [],
   "source": [
    "class RNN(Chain):\n",
    "    def __init__(this):\n",
    "        N = 100\n",
    "        super().__init__(\n",
    "            fst=L.Linear(1,N),\n",
    "            mid=L.LSTM(N, N),  \n",
    "            out=L.Linear(N, 1),  \n",
    "        )\n",
    "\n",
    "    def reset_state(this):\n",
    "        this.mid.reset_state()\n",
    "\n",
    "    def __call__(this, x):\n",
    "        g = this.fst(x)\n",
    "        h = this.mid(g)\n",
    "        y = this.out(h)\n",
    "        return y \n",
    "\n",
    "class CSR(Chain):\n",
    "    def __init__(this,pred):\n",
    "        super().__init__(\n",
    "            pred = pred\n",
    "        )\n",
    "\n",
    "    def reset_state(this):\n",
    "        this.pred.reset_state()\n",
    "\n",
    "    def __call__(this, x, t):\n",
    "        return F.mean_squared_error(this.pred(x),t)\n",
    "    \n",
    "    \n",
    "rnn = RNN()\n",
    "model = CSR(rnn)\n",
    "optimizer = optimizers.Adam()\n",
    "optimizer.setup(model)"
   ]
  },
  {
   "cell_type": "code",
   "execution_count": null,
   "metadata": {
    "collapsed": false
   },
   "outputs": [
    {
     "name": "stdout",
     "output_type": "stream",
     "text": [
      "0,56.92262649536133\n",
      "100,4.23738431930542\n",
      "200,4.224147319793701\n",
      "300,3.9119760990142822\n",
      "400,3.416555643081665\n",
      "500,2.557797431945801\n",
      "600,2.53178071975708\n",
      "700,2.2895829677581787\n",
      "800,2.013157367706299\n",
      "900,2.105375051498413\n",
      "1000,1.8600903749465942\n",
      "1100,1.802591323852539\n",
      "1200,1.86253023147583\n",
      "1300,1.8994346857070923\n",
      "1400,1.7653520107269287\n",
      "1500,1.8783365488052368\n",
      "1600,1.8293628692626953\n",
      "1700,1.8802186250686646\n",
      "1800,1.8789136409759521\n",
      "1900,1.7431825399398804\n",
      "2000,1.7364932298660278\n",
      "2100,1.619843602180481\n",
      "2200,2.0514755249023438\n",
      "2300,1.8073291778564453\n",
      "2400,1.6047173738479614\n",
      "2500,1.699629783630371\n",
      "2600,1.8057515621185303\n",
      "2700,1.6595309972763062\n",
      "2800,1.8130801916122437\n",
      "2900,1.806328535079956\n",
      "3000,1.7447305917739868\n",
      "3100,1.6980777978897095\n",
      "3200,1.9168537855148315\n",
      "3300,1.840683102607727\n",
      "3400,1.8085016012191772\n",
      "3500,1.6276001930236816\n",
      "3600,1.7367078065872192\n",
      "3700,1.7452809810638428\n",
      "3800,1.7180896997451782\n",
      "3900,1.7578952312469482\n",
      "4000,1.6400760412216187\n",
      "4100,1.8039798736572266\n",
      "4200,1.726477861404419\n",
      "4300,1.6826406717300415\n"
     ]
    }
   ],
   "source": [
    "loss = 0\n",
    "count = 0\n",
    "dep = 100\n",
    "stp = 5000\n",
    "prt = 100\n",
    "\n",
    "rnn.reset_state()\n",
    "t = f()\n",
    "for i in range(stp*dep):\n",
    "    count += 1\n",
    "    \n",
    "    x = t\n",
    "    t = f()\n",
    "    \n",
    "    tmp = model(x,t)\n",
    "    if count % dep > 20:\n",
    "        loss += tmp\n",
    "   \n",
    "    if  (count) % dep == 0:\n",
    "        model.cleargrads()\n",
    "        loss.backward()\n",
    "        loss.unchain_backward()\n",
    "        optimizer.update()\n",
    "    \n",
    "        if ((i//dep)%prt == 0):\n",
    "            print (\"{},{}\".format(i//dep,loss.data))\n",
    "        loss = 0\n",
    "        \n",
    "    #if ( i % int(dep * 20) == 0 ):\n",
    "        f_rst() #!!! DO NOT RESET MANY TIMES !!!\n",
    "        #print (\"RST\")\n",
    "        rnn.reset_state()\n",
    "        "
   ]
  },
  {
   "cell_type": "code",
   "execution_count": 2,
   "metadata": {
    "collapsed": false
   },
   "outputs": [
    {
     "ename": "NameError",
     "evalue": "name 'prd' is not defined",
     "output_type": "error",
     "traceback": [
      "\u001b[0;31m---------------------------------------------------------------------------\u001b[0m",
      "\u001b[0;31mNameError\u001b[0m                                 Traceback (most recent call last)",
      "\u001b[0;32m<ipython-input-2-c86ac0052d17>\u001b[0m in \u001b[0;36m<module>\u001b[0;34m()\u001b[0m\n\u001b[0;32m----> 1\u001b[0;31m \u001b[0mprd\u001b[0m\u001b[0;34m(\u001b[0m\u001b[0;34m)\u001b[0m\u001b[0;34m\u001b[0m\u001b[0m\n\u001b[0m",
      "\u001b[0;31mNameError\u001b[0m: name 'prd' is not defined"
     ]
    }
   ],
   "source": [
    "rnn.reset_state()\n",
    "f_rst()\n",
    "\n",
    "pre = 500\n",
    "prd = 500\n",
    "\n",
    "liy = []\n",
    "lit = []\n",
    "x = f()\n",
    "for i in range (prd + pre):\n",
    "    y = rnn(x)\n",
    "    t = f()\n",
    "    \n",
    "    liy.append(y.data[0:1])\n",
    "    lit.append(t.data[0:1])\n",
    "    \n",
    "    if i < pre :\n",
    "        x = t\n",
    "    else:\n",
    "        x = y\n",
    "liy = np.array(liy).flatten()\n",
    "lit = np.array(lit).flatten()\n"
   ]
  },
  {
   "cell_type": "code",
   "execution_count": 509,
   "metadata": {
    "collapsed": false
   },
   "outputs": [
    {
     "data": {
      "text/plain": [
       "[<matplotlib.lines.Line2D at 0x7f1cea40a630>]"
      ]
     },
     "execution_count": 509,
     "metadata": {},
     "output_type": "execute_result"
    },
    {
     "data": {
      "image/png": "[encoded data removed]",
      "text/plain": [
       "<matplotlib.figure.Figure at 0x7f1cea514f60>"
      ]
     },
     "metadata": {},
     "output_type": "display_data"
    }
   ],
   "source": [
    "plt.plot(liy)\n",
    "#plt.plot(lit)"
   ]
  },
  {
   "cell_type": "code",
   "execution_count": null,
   "metadata": {
    "collapsed": false
   },
   "outputs": [],
   "source": []
  },
  {
   "cell_type": "raw",
   "metadata": {
    "collapsed": true
   },
   "source": [
    "\n"
   ]
  },
  {
   "cell_type": "code",
   "execution_count": 1,
   "metadata": {
    "collapsed": false
   },
   "outputs": [
    {
     "data": {
      "text/plain": [
       "9"
      ]
     },
     "execution_count": 1,
     "metadata": {},
     "output_type": "execute_result"
    }
   ],
   "source": [
    "-1 % 10"
   ]
  },
  {
   "cell_type": "code",
   "execution_count": null,
   "metadata": {
    "collapsed": true
   },
   "outputs": [],
   "source": []
  }
 ],
 "metadata": {
  "kernelspec": {
   "display_name": "Python 3",
   "language": "python",
   "name": "python3"
  },
  "language_info": {
   "codemirror_mode": {
    "name": "ipython",
    "version": 3
   },
   "file_extension": ".py",
   "mimetype": "text/x-python",
   "name": "python",
   "nbconvert_exporter": "python",
   "pygments_lexer": "ipython3",
   "version": "3.6.0"
  }
 },
 "nbformat": 4,
 "nbformat_minor": 2
}
